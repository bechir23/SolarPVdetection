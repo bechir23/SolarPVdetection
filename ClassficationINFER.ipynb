{
 "cells": [
  {
   "cell_type": "code",
   "execution_count": 13,
   "metadata": {},
   "outputs": [],
   "source": [
    "\n",
    "import pycuda.driver as cuda\n",
    "import pycuda.autoinit\n",
    "import pycuda.tools\n",
    "import tensorrt as trt\n",
    "import numpy as np\n",
    "import cv2\n",
    "def infer(engine, image):\n",
    "    # Allocate buffers\n",
    "    bindings = []\n",
    "    h_input = cuda.pagelocked_empty(trt.volume(engine.get_binding_shape(0)), dtype=np.float16)\n",
    "    h_output = cuda.pagelocked_empty(trt.volume(engine.get_binding_shape(1)), dtype=np.float16)\n",
    "    d_input = cuda.mem_alloc(h_input.nbytes)\n",
    "    d_output = cuda.mem_alloc(h_output.nbytes)\n",
    "    \n",
    "    stream = cuda.Stream()\n",
    "    \n",
    "    # Preprocess the image\n",
    "    image_resized = cv2.resize(image, (1024, 1024))  # Resize to model input size\n",
    "    image_normalized = image_resized.astype(np.float16) / 255.0  # Normalize and convert to FP16\n",
    "    np.copyto(h_input, image_normalized.ravel())\n",
    "    \n",
    "    # Create context and run inference\n",
    "    context = engine.create_execution_context()\n",
    "    bindings = [int(d_input), int(d_output)]\n",
    "    context.execute_async_v2(bindings=bindings, stream_handle=stream.handle)\n",
    "    \n",
    "    # Copy output data to host\n",
    "    cuda.memcpy_dtoh_async(h_output, d_output, stream)\n",
    "    stream.synchronize()\n",
    "    \n",
    "    return np.array(h_output)"
   ]
  },
  {
   "cell_type": "code",
   "execution_count": 10,
   "metadata": {},
   "outputs": [],
   "source": [
    "e={0:'defective',1:'good'}"
   ]
  },
  {
   "cell_type": "code",
   "execution_count": 3,
   "metadata": {},
   "outputs": [
    {
     "name": "stdout",
     "output_type": "stream",
     "text": [
      "[09/02/2024-17:38:02] [TRT] [W] Using an engine plan file across different models of devices is not recommended and is likely to affect performance or even cause errors.\n"
     ]
    }
   ],
   "source": [
    "import numpy as np\n",
    "import tensorrt as trt\n",
    "import cv2\n",
    "ENGINE_PATH = 'ELClassifcationbased_fp16_dla0.engine'\n",
    "\n",
    "# Load the TensorRT engine\n",
    "def load_engine(trt_runtime, engine_path):\n",
    "    with open(engine_path, 'rb') as f:\n",
    "        engine_data = f.read()\n",
    "    engine = trt_runtime.deserialize_cuda_engine(engine_data)\n",
    "    return engine\n",
    "\n",
    "TRT_LOGGER = trt.Logger(trt.Logger.WARNING)\n",
    "trt_runtime = trt.Runtime(TRT_LOGGER)\n",
    "engine = load_engine(trt_runtime, ENGINE_PATH)\n"
   ]
  },
  {
   "cell_type": "code",
   "execution_count": 15,
   "metadata": {},
   "outputs": [
    {
     "name": "stderr",
     "output_type": "stream",
     "text": [
      "/tmp/ipykernel_5898/2753902778.py:10: DeprecationWarning: Use get_tensor_shape instead.\n",
      "  h_input = cuda.pagelocked_empty(trt.volume(engine.get_binding_shape(0)), dtype=np.float16)\n",
      "/tmp/ipykernel_5898/2753902778.py:11: DeprecationWarning: Use get_tensor_shape instead.\n",
      "  h_output = cuda.pagelocked_empty(trt.volume(engine.get_binding_shape(1)), dtype=np.float16)\n"
     ]
    },
    {
     "ename": "ValueError",
     "evalue": "could not broadcast input array from shape (3145728,) into shape (1048576,)",
     "output_type": "error",
     "traceback": [
      "\u001b[0;31m---------------------------------------------------------------------------\u001b[0m",
      "\u001b[0;31mValueError\u001b[0m                                Traceback (most recent call last)",
      "Cell \u001b[0;32mIn[15], line 22\u001b[0m\n\u001b[1;32m     19\u001b[0m prev_frame \u001b[38;5;241m=\u001b[39m cur_frame\n\u001b[1;32m     21\u001b[0m \u001b[38;5;66;03m# Run inference\u001b[39;00m\n\u001b[0;32m---> 22\u001b[0m logits \u001b[38;5;241m=\u001b[39m \u001b[43minfer\u001b[49m\u001b[43m(\u001b[49m\u001b[43mengine\u001b[49m\u001b[43m,\u001b[49m\u001b[43m \u001b[49m\u001b[43mframe\u001b[49m\u001b[43m)\u001b[49m\n\u001b[1;32m     24\u001b[0m \u001b[38;5;66;03m# Draw FPS\u001b[39;00m\n\u001b[1;32m     25\u001b[0m cv2\u001b[38;5;241m.\u001b[39mputText(frame, \u001b[38;5;124mf\u001b[39m\u001b[38;5;124m'\u001b[39m\u001b[38;5;124mFPS: \u001b[39m\u001b[38;5;132;01m{\u001b[39;00m\u001b[38;5;28mint\u001b[39m(fps)\u001b[38;5;132;01m}\u001b[39;00m\u001b[38;5;124m'\u001b[39m, (\u001b[38;5;241m10\u001b[39m, \u001b[38;5;241m30\u001b[39m), cv2\u001b[38;5;241m.\u001b[39mFONT_HERSHEY_SIMPLEX, \u001b[38;5;241m1\u001b[39m, (\u001b[38;5;241m0\u001b[39m, \u001b[38;5;241m255\u001b[39m, \u001b[38;5;241m0\u001b[39m), \u001b[38;5;241m2\u001b[39m)\n",
      "Cell \u001b[0;32mIn[13], line 20\u001b[0m, in \u001b[0;36minfer\u001b[0;34m(engine, image)\u001b[0m\n\u001b[1;32m     18\u001b[0m image_resized \u001b[38;5;241m=\u001b[39m cv2\u001b[38;5;241m.\u001b[39mresize(image, (\u001b[38;5;241m1024\u001b[39m, \u001b[38;5;241m1024\u001b[39m))  \u001b[38;5;66;03m# Resize to model input size\u001b[39;00m\n\u001b[1;32m     19\u001b[0m image_normalized \u001b[38;5;241m=\u001b[39m image_resized\u001b[38;5;241m.\u001b[39mastype(np\u001b[38;5;241m.\u001b[39mfloat16) \u001b[38;5;241m/\u001b[39m \u001b[38;5;241m255.0\u001b[39m  \u001b[38;5;66;03m# Normalize and convert to FP16\u001b[39;00m\n\u001b[0;32m---> 20\u001b[0m \u001b[43mnp\u001b[49m\u001b[38;5;241;43m.\u001b[39;49m\u001b[43mcopyto\u001b[49m\u001b[43m(\u001b[49m\u001b[43mh_input\u001b[49m\u001b[43m,\u001b[49m\u001b[43m \u001b[49m\u001b[43mimage_normalized\u001b[49m\u001b[38;5;241;43m.\u001b[39;49m\u001b[43mravel\u001b[49m\u001b[43m(\u001b[49m\u001b[43m)\u001b[49m\u001b[43m)\u001b[49m\n\u001b[1;32m     22\u001b[0m \u001b[38;5;66;03m# Create context and run inference\u001b[39;00m\n\u001b[1;32m     23\u001b[0m context \u001b[38;5;241m=\u001b[39m engine\u001b[38;5;241m.\u001b[39mcreate_execution_context()\n",
      "File \u001b[0;32m<__array_function__ internals>:180\u001b[0m, in \u001b[0;36mcopyto\u001b[0;34m(*args, **kwargs)\u001b[0m\n",
      "\u001b[0;31mValueError\u001b[0m: could not broadcast input array from shape (3145728,) into shape (1048576,)"
     ]
    }
   ],
   "source": [
    "\n",
    "# Initialize video capture\n",
    "cap = cv2.VideoCapture(0)\n",
    "cap.set(cv2.CAP_PROP_FRAME_WIDTH, 1024)\n",
    "cap.set(cv2.CAP_PROP_FRAME_HEIGHT, 1024)\n",
    "\n",
    "cur_frame = 0.0\n",
    "prev_frame = 0.0\n",
    "\n",
    "# Dictionary for class labels (replace with your actual labels)\n",
    "e = {0: \"Class0\", 1: \"Class1\"}\n",
    "\n",
    "while True:\n",
    "    ret, frame = cap.read()\n",
    "    if not ret:\n",
    "        break\n",
    "\n",
    "    cur_frame = cv2.getTickCount()\n",
    "    fps = cv2.getTickFrequency() / (cur_frame - prev_frame)\n",
    "    prev_frame = cur_frame\n",
    "\n",
    "    # Run inference\n",
    "    logits = infer(engine, frame)\n",
    "    \n",
    "    # Draw FPS\n",
    "    cv2.putText(frame, f'FPS: {int(fps)}', (10, 30), cv2.FONT_HERSHEY_SIMPLEX, 1, (0, 255, 0), 2)\n",
    "    \n",
    "    # Draw rectangle and text (adjust positions as needed)\n",
    "    cv2.rectangle(frame, (0, 0), (1024, 1024), (0, 255, 0), 2)\n",
    "    cv2.putText(frame, e.get(np.argmax(logits), \"Unknown\"), (1024, 1014), cv2.FONT_HERSHEY_SIMPLEX, 0.5, (0, 255, 0), 2)\n",
    "\n",
    "    # Display the frame\n",
    "    cv2.imshow('Camera', frame)\n",
    "    if cv2.waitKey(1) & 0xFF == ord('q'):\n",
    "        break\n",
    "\n",
    "cap.release()\n",
    "cv2.destroyAllWindows()"
   ]
  },
  {
   "cell_type": "code",
   "execution_count": 37,
   "metadata": {},
   "outputs": [
    {
     "name": "stdout",
     "output_type": "stream",
     "text": [
      "[09/02/2024-18:15:20] [TRT] [W] CUDA initialization failure with error: 700\n"
     ]
    },
    {
     "ename": "TypeError",
     "evalue": "pybind11::init(): factory function returned nullptr",
     "output_type": "error",
     "traceback": [
      "\u001b[0;31m---------------------------------------------------------------------------\u001b[0m",
      "\u001b[0;31mTypeError\u001b[0m                                 Traceback (most recent call last)",
      "Cell \u001b[0;32mIn[37], line 54\u001b[0m\n\u001b[1;32m     50\u001b[0m \u001b[38;5;66;03m# Path to TensorRT engine\u001b[39;00m\n\u001b[1;32m     51\u001b[0m \n\u001b[1;32m     52\u001b[0m \u001b[38;5;66;03m# Create TensorRT runtime and load the engine\u001b[39;00m\n\u001b[1;32m     53\u001b[0m TRT_LOGGER \u001b[38;5;241m=\u001b[39m trt\u001b[38;5;241m.\u001b[39mLogger(trt\u001b[38;5;241m.\u001b[39mLogger\u001b[38;5;241m.\u001b[39mWARNING)\n\u001b[0;32m---> 54\u001b[0m trt_runtime \u001b[38;5;241m=\u001b[39m \u001b[43mtrt\u001b[49m\u001b[38;5;241;43m.\u001b[39;49m\u001b[43mRuntime\u001b[49m\u001b[43m(\u001b[49m\u001b[43mTRT_LOGGER\u001b[49m\u001b[43m)\u001b[49m\n\u001b[1;32m     55\u001b[0m engine \u001b[38;5;241m=\u001b[39m load_engine(trt_runtime, ENGINE_PATH)\n\u001b[1;32m     57\u001b[0m \u001b[38;5;66;03m# Initialize video capture\u001b[39;00m\n",
      "\u001b[0;31mTypeError\u001b[0m: pybind11::init(): factory function returned nullptr"
     ]
    }
   ],
   "source": [
    "import cv2\n",
    "import numpy as np\n",
    "import pycuda.driver as cuda\n",
    "import pycuda.autoinit\n",
    "import tensorrt as trt\n",
    "\n",
    "# Load TensorRT engine\n",
    "def load_engine(trt_runtime, engine_path):\n",
    "    with open(engine_path, 'rb') as f:\n",
    "        engine_data = f.read()\n",
    "    engine = trt_runtime.deserialize_cuda_engine(engine_data)\n",
    "    return engine\n",
    "\n",
    "\n",
    "def infer(engine, image):\n",
    "    # Allocate buffers\n",
    "    input_shape = engine.get_binding_shape(0)\n",
    "    output_shape = engine.get_binding_shape(1)\n",
    "    input_size = trt.volume(input_shape) * np.dtype(np.float16).itemsize\n",
    "    output_size = trt.volume(output_shape) * np.dtype(np.float16).itemsize\n",
    "    \n",
    "    h_input = cuda.pagelocked_empty(input_size, dtype=np.float16)\n",
    "    h_output = cuda.pagelocked_empty(output_size, dtype=np.float16)\n",
    "    d_input = cuda.mem_alloc(input_size)\n",
    "    d_output = cuda.mem_alloc(output_size)\n",
    "    \n",
    "    stream = cuda.Stream()\n",
    "\n",
    "    # Preprocess image\n",
    "    image_resized = cv2.resize(image, (input_shape[3], input_shape[2]))  # Resize to model input size\n",
    "    image_gray = cv2.cvtColor(image_resized, cv2.COLOR_BGR2GRAY)  # Convert to grayscale\n",
    "    image_normalized = image_gray.astype(np.float16) / 255.0  # Normalize and convert to FP16\n",
    "    image_normalized = np.expand_dims(image_normalized, axis=(0, 1))  # Add batch and channel dimensions\n",
    "    \n",
    "    np.copyto(h_input, image_normalized.ravel())\n",
    "    \n",
    "    # Create context and run inference\n",
    "    context = engine.create_execution_context()\n",
    "    bindings = [int(d_input), int(d_output)]\n",
    "    \n",
    "    try:\n",
    "        cuda.memcpy_htod_async(d_input, h_input, stream)\n",
    "        context.execute_async_v2(bindings=bindings, stream_handle=stream.handle)\n",
    "        cuda.memcpy_dtoh_async(h_output, d_output, stream)\n",
    "        stream.synchronize()\n",
    "        return np.array(h_output).reshape(output_shape)\n",
    "    except Exception as e:\n",
    "        print(f\"Inference Error: {e}\")\n",
    "        return None\n",
    "# Path to TensorRT engine\n",
    "\n",
    "# Create TensorRT runtime and load the engine\n",
    "TRT_LOGGER = trt.Logger(trt.Logger.WARNING)\n",
    "trt_runtime = trt.Runtime(TRT_LOGGER)\n",
    "engine = load_engine(trt_runtime, ENGINE_PATH)\n",
    "\n",
    "# Initialize video capture\n",
    "cap = cv2.VideoCapture(0)\n",
    "cap.set(cv2.CAP_PROP_FRAME_WIDTH, 1024)\n",
    "cap.set(cv2.CAP_PROP_FRAME_HEIGHT, 1024)\n",
    "\n",
    "cur_frame = 0.0\n",
    "prev_frame = 0.0\n",
    "\n",
    "# Dictionary for class labels (replace with your actual labels)\n",
    "e = {0: \"Class0\", 1: \"Class1\"}\n",
    "\n",
    "while True:\n",
    "    ret, frame = cap.read()\n",
    "    if not ret:\n",
    "        break\n",
    "\n",
    "    cur_frame = cv2.getTickCount()\n",
    "    fps = cv2.getTickFrequency() / (cur_frame - prev_frame)\n",
    "    prev_frame = cur_frame\n",
    "\n",
    "    # Run inference\n",
    "    logits = infer(engine, frame)\n",
    "    \n",
    "    # Draw FPS\n",
    "    cv2.putText(frame, f'FPS: {int(fps)}', (10, 30), cv2.FONT_HERSHEY_SIMPLEX, 1, (0, 255, 0), 2)\n",
    "    \n",
    "    # Draw rectangle and text (adjust positions as needed)\n",
    "    cv2.rectangle(frame, (0, 0), (1024, 1024), (0, 255, 0), 2)\n",
    "    cv2.putText(frame, e.get(np.argmax(logits), \"Unknown\"), (10, 1014), cv2.FONT_HERSHEY_SIMPLEX, 0.5, (0, 255, 0), 2)\n",
    "\n",
    "    # Display the frame\n",
    "    cv2.imshow('Camera', frame)\n",
    "    if cv2.waitKey(1) & 0xFF == ord('q'):\n",
    "        break\n",
    "\n",
    "cap.release()\n",
    "cv2.destroyAllWindows()\n"
   ]
  },
  {
   "cell_type": "code",
   "execution_count": 27,
   "metadata": {},
   "outputs": [
    {
     "name": "stdout",
     "output_type": "stream",
     "text": [
      "CUDA initialized successfully\n"
     ]
    }
   ],
   "source": [
    "import pycuda.driver as cuda\n",
    "import pycuda.autoinit\n",
    "\n",
    "def test_cuda():\n",
    "    try:\n",
    "        cuda.init()\n",
    "        print(\"CUDA initialized successfully\")\n",
    "    except cuda.Error as e:\n",
    "        print(f\"CUDA initialization error: {e}\")\n",
    "\n",
    "test_cuda()\n"
   ]
  }
 ],
 "metadata": {
  "kernelspec": {
   "display_name": "Python 3",
   "language": "python",
   "name": "python3"
  },
  "language_info": {
   "codemirror_mode": {
    "name": "ipython",
    "version": 3
   },
   "file_extension": ".py",
   "mimetype": "text/x-python",
   "name": "python",
   "nbconvert_exporter": "python",
   "pygments_lexer": "ipython3",
   "version": "3.8.10"
  }
 },
 "nbformat": 4,
 "nbformat_minor": 2
}
