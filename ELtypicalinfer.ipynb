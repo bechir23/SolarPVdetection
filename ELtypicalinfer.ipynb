{
 "cells": [
  {
   "cell_type": "code",
   "execution_count": null,
   "metadata": {},
   "outputs": [],
   "source": [
    "from ultralytics import YOLOv10\n",
    "model=YOLOv10('/DeepStream-Yolo/EldetectionClassification.pt')\n",
    "model.export('engine',half=True,opset=17)\n",
    "\n"
   ]
  },
  {
   "cell_type": "code",
   "execution_count": null,
   "metadata": {},
   "outputs": [],
   "source": [
    "e={'0':'black_core','1':'corner','2':'crack','3':'finger','4':'fragment','5':'horizental_dislocation','6':'printing_error','7':'scratch','8':'short_circuit','9':'star_crack','10':'thick_line','11':'vertical_dislocation','12':'defective','13':'good'}"
   ]
  },
  {
   "cell_type": "code",
   "execution_count": null,
   "metadata": {},
   "outputs": [],
   "source": [
    "import cv2\n",
    "\n",
    "cur_frame = 0\n",
    "prev_frame = 0\n",
    "\n",
    "cap = cv2.VideoCapture(0)\n",
    "\n",
    "# Confidence threshold\n",
    "confidence = 0.7\n",
    "\n",
    "while True:\n",
    "    # Capture frame-by-frame\n",
    "    ret, frame = cap.read()\n",
    "    if not ret:\n",
    "        break\n",
    "\n",
    "    # Calculate and display FPS\n",
    "    cur_frame = cv2.getTickCount()\n",
    "    fps = cv2.getTickFrequency() / (cur_frame - prev_frame)\n",
    "    prev_frame = cur_frame\n",
    "    cv2.putText(frame, f'FPS: {int(fps)}', (10, 30), cv2.FONT_HERSHEY_SIMPLEX, 1, (0, 255, 0), 2)\n",
    "\n",
    "    results = model(frame)  \n",
    "\n",
    "    for result in results:\n",
    "        for box in result.boxes:\n",
    "            if box.conf >= confidence:\n",
    "                x1, y1, x2, y2 = box.xyxy[0]\n",
    "                # Draw rectangle\n",
    "                cv2.rectangle(frame, (int(x1), int(y1)), (int(x2), int(y2)), (0, 255, 0), 2)\n",
    "                # Draw text\n",
    "                cv2.putText(frame, str(int(box.cls)), (int(x1), int(y2) + 20), cv2.FONT_HERSHEY_SIMPLEX, 0.5, (0, 255, 0), 2)\n",
    "\n",
    "    cv2.imshow('Camera', frame)\n",
    "\n",
    "    if cv2.waitKey(1) & 0xFF == ord('q'):\n",
    "        break\n",
    "\n",
    "cap.release()\n",
    "cv2.destroyAllWindows()\n"
   ]
  }
 ],
 "metadata": {
  "kernelspec": {
   "display_name": "Python 3",
   "language": "python",
   "name": "python3"
  },
  "language_info": {
   "codemirror_mode": {
    "name": "ipython",
    "version": 3
   },
   "file_extension": ".py",
   "mimetype": "text/x-python",
   "name": "python",
   "nbconvert_exporter": "python",
   "pygments_lexer": "ipython3",
   "version": "3.8.10"
  }
 },
 "nbformat": 4,
 "nbformat_minor": 2
}
